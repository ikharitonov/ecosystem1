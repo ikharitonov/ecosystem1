{
 "cells": [
  {
   "cell_type": "code",
   "execution_count": 1,
   "id": "56354de1-be6b-411d-81c8-93a7517f3d30",
   "metadata": {
    "tags": []
   },
   "outputs": [],
   "source": [
    "import numpy as np\n",
    "import pandas as pd\n",
    "import requests\n",
    "import os\n",
    "from pathlib import Path\n",
    "import xml.etree.ElementTree as ET"
   ]
  },
  {
   "cell_type": "code",
   "execution_count": 2,
   "id": "41f23b7c-02a4-439b-a1cd-ebfbbc38ffaa",
   "metadata": {},
   "outputs": [],
   "source": [
    "pdf_folder = '../../pdfs'"
   ]
  },
  {
   "cell_type": "code",
   "execution_count": 4,
   "id": "bd5ea2c8-486a-4d46-a27b-8366e9a1efa2",
   "metadata": {
    "tags": []
   },
   "outputs": [
    {
     "data": {
      "text/plain": [
       "PosixPath('/home/jupyter-ikharitonov/code/ecosystem1/../../pdfs/nn.2105.pdf')"
      ]
     },
     "execution_count": 4,
     "metadata": {},
     "output_type": "execute_result"
    }
   ],
   "source": [
    "pdf_path = Path(pdf_folder) / os.listdir(pdf_folder)[1]\n",
    "pdf_path.absolute()"
   ]
  },
  {
   "cell_type": "code",
   "execution_count": 14,
   "id": "f3f99fd6-55bc-4815-aba5-244e4d3669aa",
   "metadata": {
    "tags": []
   },
   "outputs": [],
   "source": [
    "grobid_url = 'http://localhost:8070/api/processFulltextDocument'\n",
    "with open(pdf_path, 'rb') as file:\n",
    "    files = {'input': ('first', file, 'application/pdf')}\n",
    "    response = requests.post(grobid_url, files=files)"
   ]
  },
  {
   "cell_type": "code",
   "execution_count": 6,
   "id": "a8467c53-d461-4ed1-a931-a18b5a413046",
   "metadata": {},
   "outputs": [],
   "source": [
    "# https://grobid.readthedocs.io/en/latest/Grobid-service/#apiprocessfulltextdocument"
   ]
  },
  {
   "cell_type": "code",
   "execution_count": 15,
   "id": "9fcb926c-e94e-4ff8-8f74-56cba4eb2ecf",
   "metadata": {
    "tags": []
   },
   "outputs": [
    {
     "data": {
      "text/plain": [
       "200"
      ]
     },
     "execution_count": 15,
     "metadata": {},
     "output_type": "execute_result"
    }
   ],
   "source": [
    "response.status_code"
   ]
  },
  {
   "cell_type": "code",
   "execution_count": 8,
   "id": "e466fadd-ae2e-4c49-a8fc-5fc78ede6afd",
   "metadata": {
    "tags": []
   },
   "outputs": [],
   "source": [
    "# print(response.text[:])"
   ]
  },
  {
   "cell_type": "code",
   "execution_count": 16,
   "id": "d2efbde3-68b4-4ed8-91ed-ac52abc6a648",
   "metadata": {
    "tags": []
   },
   "outputs": [],
   "source": [
    "root = ET.fromstring(response.text)"
   ]
  },
  {
   "cell_type": "code",
   "execution_count": 17,
   "id": "a53211fb-f255-42b8-b204-e976c63a2f46",
   "metadata": {
    "tags": []
   },
   "outputs": [
    {
     "data": {
      "text/plain": [
       "['Inhibitory neurons comprise only a small fraction of all of the cortical neurons, yet they are believed to be important in regulating the excitatory activity in the cortex. In a widely accepted class of models, cortical neurons are assumed to receive a large number of uncorrelated small excitatory and inhibitory synaptic inputs that, on average, balance each other ',\n",
       " 'Nearby cortical neurons receive highly similar synaptic inputs, as demonstrated by the high correlation of their membrane potentials ',\n",
       " 'Lag(V d ,V d ) V d 1 1 V d 2 V h 2 V h 1 2 Lag(V h , V h ) 1 2 Measured Lag (V h , V d ) (ms) 1 2 Lag(V d , V h ) 1 1 Predicted Lag(V h , V d ) (ms) 1 2 Lag(V d , V h ) 2 2 L a g ( V h , V d ) 1 2 L a g ( V d , V h ) 1 2 Lag (V h , V h ) (ms) 1 2 Lag (V d , V h ) (ms)',\n",
       " 'h ; V 2 h Þ- LagðV 1 d ; V 2 h Þ + Lag ðV 1 d ; V 2 d Þ.',\n",
       " 'Error bars represent 95% confidence intervals. (e,f) For each of the pairs (n ¼ 47), V 2 h was used as a reference to measure the lag of V 1 d relative to V 1 h . The distribution of the lags computed by subtracting the abscissa from the ordinal in e is presented in f. The error bars (e, barely visible for most pairs) represent the s.e.m.',\n",
       " 'The cross-correlations of the membrane potentials attained their peak values at nonzero time lags (Fig. ',\n",
       " 'The relative timing between synaptic potentials in the two cells was fairly consistent during the recording (see below) and could be observed even in short spontaneous epochs (Fig. ',\n",
       " '1 d ; V 1 h Þ ¼ LagðV 1 d ; V 2 h Þ À LagðV 1 h ; V 2 h Þ, where LagðV 1 d ; V 2 h Þ and LagðV 1 h ; V 2 h Þ',\n",
       " 'were measured from the peak cross-correlations. The accuracy of this method was additionally verified in pairs where all four combinations were recorded by comparing LagðV 1 h ; V 2 d Þ with predictions based on similar measurements of the three other lags (Fig. ',\n",
       " \"The shape and amplitude of the synaptic events were highly variable when recorded at the neuron's resting potential (for example, as in Fig. \",\n",
       " 'We used the same approach to examine the trial-to-trial correlation between excitation and inhibition in the highly variable cortical responses ',\n",
       " 'A likely role for cortical inhibition is to prevent runaway excitation by damping the recurrent excitatory activity ',\n",
       " 'Note: Supplementary information is available on the Nature Neuroscience website.',\n",
       " '1 - 3 andFigure 1',\n",
       " '131',\n",
       " 'Figure 1 Excitatory and inhibitory synaptic potentials of nearby neurons are synchronized during spontaneous activity. (a-d) Simultaneous recordings from two cortical cells at four different combinations of current injection (H-H, D-D, D-H and H-D). D, depolarized; H, hyperpolarized. (e,f) Corresponding crosscorrelations (each from an average cross-correlation of 20 1-s epochs). (g) Cross-correlation in the population: correlation at zero time lag (blue bars), peak correlation (white bars), and cross-correlation among shuffled traces (green bars). Note that the D-D mode was tested only in a subset of pairs. Error bars represent the s.e.m.',\n",
       " None,\n",
       " 'Figure 3',\n",
       " '3',\n",
       " \"Figure 3 The magnitude of excitatory and inhibitory potentials in paired recordings is positively correlated. (a) Automatically detected synaptic events (randomly selected from 30 s of recording) in the second cell (Cell 2) of a pair are shown at the bottom, sorted by their amplitude (indicated by the color intensity). The corresponding events in Cell 1 are shown above with the same color. Here, both neurons were in the hyperpolarized mode. (b) As in a, when the first cell is in the depolarized mode. Baseline membrane potential was B-77 mV for the second cell and B-70 (in a) and B-28 mV (in b) for the first cell. (c) Amplitudes of the events presented in a and b. A significant correlation (P o 0.0001) between the amplitudes is clearly visible in each case. (d) The mean of amplitude correlations of spontaneous events that appear at the same time in both cells (n ¼ 47 pairs). The amplitude correlations were significant (P o 0.05) for 39 out of 47 pairs in the H-H and D-H modes, and for 10 out of 13 pairs in the D-D mode. The green bar (invisible) presents the correlation when the amplitudes in Cell 2 of each pair were randomly shuffled. (e-g) Data is presented as in a-c for events evoked by whiskers' stimulation (in the same pair). (h) Average amplitude correlations for sensory-evoked postsynaptic potentials in n ¼ 17 pairs. The green bars represent the correlation after the response traces in one of the cells were randomly shuffled. Errors bars (in d and h) represent the s.e.m.\",\n",
       " None,\n",
       " 'Figure 2',\n",
       " '2',\n",
       " 'Figure 2 Inhibition lags behind excitation during spontaneous activity. (a) Simultaneous recordings from two cortical cells. One cell (red) was continuously recorded in hyperpolarized mode and the other cell (blue) was switched between depolarized and hyperpolarized modes (current depicted below traces). Dashed lines mark the onsets of synaptic events (detection algorithm described in Supplementary Methods online). Insets show examples of two events (marked by asterisks). (b,c) V m average cross-correlograms, cell 2 centered (corresponding to the combinations in Fig. 1e,f, but for a different pair). Peak times (dashed lines) were used to estimate the lags presented in the diagram (c). (d) No significant difference (P ¼ 0.3, n ¼ 7) was found between the measured LagðV 1 h ; V 2 d Þ and its prediction by the expression Lag ðV 1h ; V 2 h Þ-LagðV 1 d ; V 2 h Þ + Lag ðV 1 d ; V 2 d Þ.Error bars represent 95% confidence intervals. (e,f) For each of the pairs (n ¼ 47), V 2 h was used as a reference to measure the lag of V 1 d relative to V 1 h . The distribution of the lags computed by subtracting the abscissa from the ordinal in e is presented in f. The error bars (e, barely visible for most pairs) represent the s.e.m.',\n",
       " None,\n",
       " '© 2008 Nature Publishing Group http://www.nature.com/natureneuroscience']"
      ]
     },
     "execution_count": 17,
     "metadata": {},
     "output_type": "execute_result"
    }
   ],
   "source": [
    "chunks_of_text = []\n",
    "\n",
    "for i in root[1][0]:\n",
    "    # print(i.tag)\n",
    "    for j in i:\n",
    "        # print('\\t',j.tag)\n",
    "        # if j.tag.split('}')[1] == 'p':\n",
    "        chunks_of_text.append(j.text)\n",
    "chunks_of_text"
   ]
  },
  {
   "cell_type": "code",
   "execution_count": 18,
   "id": "949c6f3e-8614-4d2f-95bd-6d90d9ef0ff0",
   "metadata": {
    "tags": []
   },
   "outputs": [
    {
     "data": {
      "text/plain": [
       "['Inhibitory neurons comprise only a small fraction of all of the cortical neurons, yet they are believed to be important in regulating the excitatory activity in the cortex. In a widely accepted class of models, cortical neurons are assumed to receive a large number of uncorrelated small excitatory and inhibitory synaptic inputs that, on average, balance each other ',\n",
       " 'Nearby cortical neurons receive highly similar synaptic inputs, as demonstrated by the high correlation of their membrane potentials ',\n",
       " 'Lag(V d ,V d ) V d 1 1 V d 2 V h 2 V h 1 2 Lag(V h , V h ) 1 2 Measured Lag (V h , V d ) (ms) 1 2 Lag(V d , V h ) 1 1 Predicted Lag(V h , V d ) (ms) 1 2 Lag(V d , V h ) 2 2 L a g ( V h , V d ) 1 2 L a g ( V d , V h ) 1 2 Lag (V h , V h ) (ms) 1 2 Lag (V d , V h ) (ms)',\n",
       " 'h ; V 2 h Þ- LagðV 1 d ; V 2 h Þ + Lag ðV 1 d ; V 2 d Þ.',\n",
       " 'Error bars represent 95% confidence intervals. (e,f) For each of the pairs (n ¼ 47), V 2 h was used as a reference to measure the lag of V 1 d relative to V 1 h . The distribution of the lags computed by subtracting the abscissa from the ordinal in e is presented in f. The error bars (e, barely visible for most pairs) represent the s.e.m.',\n",
       " 'The cross-correlations of the membrane potentials attained their peak values at nonzero time lags (Fig. ',\n",
       " 'The relative timing between synaptic potentials in the two cells was fairly consistent during the recording (see below) and could be observed even in short spontaneous epochs (Fig. ',\n",
       " '1 d ; V 1 h Þ ¼ LagðV 1 d ; V 2 h Þ À LagðV 1 h ; V 2 h Þ, where LagðV 1 d ; V 2 h Þ and LagðV 1 h ; V 2 h Þ',\n",
       " 'were measured from the peak cross-correlations. The accuracy of this method was additionally verified in pairs where all four combinations were recorded by comparing LagðV 1 h ; V 2 d Þ with predictions based on similar measurements of the three other lags (Fig. ',\n",
       " \"The shape and amplitude of the synaptic events were highly variable when recorded at the neuron's resting potential (for example, as in Fig. \",\n",
       " 'We used the same approach to examine the trial-to-trial correlation between excitation and inhibition in the highly variable cortical responses ',\n",
       " 'A likely role for cortical inhibition is to prevent runaway excitation by damping the recurrent excitatory activity ',\n",
       " 'Note: Supplementary information is available on the Nature Neuroscience website.',\n",
       " '1 - 3 andFigure 1',\n",
       " '131',\n",
       " 'Figure 1 Excitatory and inhibitory synaptic potentials of nearby neurons are synchronized during spontaneous activity. (a-d) Simultaneous recordings from two cortical cells at four different combinations of current injection (H-H, D-D, D-H and H-D). D, depolarized; H, hyperpolarized. (e,f) Corresponding crosscorrelations (each from an average cross-correlation of 20 1-s epochs). (g) Cross-correlation in the population: correlation at zero time lag (blue bars), peak correlation (white bars), and cross-correlation among shuffled traces (green bars). Note that the D-D mode was tested only in a subset of pairs. Error bars represent the s.e.m.',\n",
       " None,\n",
       " 'Figure 3',\n",
       " '3',\n",
       " \"Figure 3 The magnitude of excitatory and inhibitory potentials in paired recordings is positively correlated. (a) Automatically detected synaptic events (randomly selected from 30 s of recording) in the second cell (Cell 2) of a pair are shown at the bottom, sorted by their amplitude (indicated by the color intensity). The corresponding events in Cell 1 are shown above with the same color. Here, both neurons were in the hyperpolarized mode. (b) As in a, when the first cell is in the depolarized mode. Baseline membrane potential was B-77 mV for the second cell and B-70 (in a) and B-28 mV (in b) for the first cell. (c) Amplitudes of the events presented in a and b. A significant correlation (P o 0.0001) between the amplitudes is clearly visible in each case. (d) The mean of amplitude correlations of spontaneous events that appear at the same time in both cells (n ¼ 47 pairs). The amplitude correlations were significant (P o 0.05) for 39 out of 47 pairs in the H-H and D-H modes, and for 10 out of 13 pairs in the D-D mode. The green bar (invisible) presents the correlation when the amplitudes in Cell 2 of each pair were randomly shuffled. (e-g) Data is presented as in a-c for events evoked by whiskers' stimulation (in the same pair). (h) Average amplitude correlations for sensory-evoked postsynaptic potentials in n ¼ 17 pairs. The green bars represent the correlation after the response traces in one of the cells were randomly shuffled. Errors bars (in d and h) represent the s.e.m.\",\n",
       " None,\n",
       " 'Figure 2',\n",
       " '2',\n",
       " 'Figure 2 Inhibition lags behind excitation during spontaneous activity. (a) Simultaneous recordings from two cortical cells. One cell (red) was continuously recorded in hyperpolarized mode and the other cell (blue) was switched between depolarized and hyperpolarized modes (current depicted below traces). Dashed lines mark the onsets of synaptic events (detection algorithm described in Supplementary Methods online). Insets show examples of two events (marked by asterisks). (b,c) V m average cross-correlograms, cell 2 centered (corresponding to the combinations in Fig. 1e,f, but for a different pair). Peak times (dashed lines) were used to estimate the lags presented in the diagram (c). (d) No significant difference (P ¼ 0.3, n ¼ 7) was found between the measured LagðV 1 h ; V 2 d Þ and its prediction by the expression Lag ðV 1h ; V 2 h Þ-LagðV 1 d ; V 2 h Þ + Lag ðV 1 d ; V 2 d Þ.Error bars represent 95% confidence intervals. (e,f) For each of the pairs (n ¼ 47), V 2 h was used as a reference to measure the lag of V 1 d relative to V 1 h . The distribution of the lags computed by subtracting the abscissa from the ordinal in e is presented in f. The error bars (e, barely visible for most pairs) represent the s.e.m.',\n",
       " None,\n",
       " '© 2008 Nature Publishing Group http://www.nature.com/natureneuroscience']"
      ]
     },
     "execution_count": 18,
     "metadata": {},
     "output_type": "execute_result"
    }
   ],
   "source": [
    "chunks_of_text"
   ]
  },
  {
   "cell_type": "code",
   "execution_count": null,
   "id": "55bdbc97-01f0-43b3-8ad1-9cbedc7e6fab",
   "metadata": {},
   "outputs": [],
   "source": []
  }
 ],
 "metadata": {
  "kernelspec": {
   "display_name": "Python [conda env:jh_llms]",
   "language": "python",
   "name": "conda-env-jh_llms-py"
  },
  "language_info": {
   "codemirror_mode": {
    "name": "ipython",
    "version": 3
   },
   "file_extension": ".py",
   "mimetype": "text/x-python",
   "name": "python",
   "nbconvert_exporter": "python",
   "pygments_lexer": "ipython3",
   "version": "3.12.2"
  }
 },
 "nbformat": 4,
 "nbformat_minor": 5
}
