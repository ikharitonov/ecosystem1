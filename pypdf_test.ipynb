{
 "cells": [
  {
   "cell_type": "code",
   "execution_count": 1,
   "id": "297d1127-054e-4c14-b7d1-8f965927ef10",
   "metadata": {
    "tags": []
   },
   "outputs": [],
   "source": [
    "import numpy as np\n",
    "import pandas as pd\n",
    "import os\n",
    "from pathlib import Path\n",
    "import xml.etree.ElementTree as ET\n",
    "from pypdf import PdfReader\n",
    "import torch"
   ]
  },
  {
   "cell_type": "code",
   "execution_count": 3,
   "id": "58343163-31c8-4b7f-a35a-1fab237d7010",
   "metadata": {
    "tags": []
   },
   "outputs": [
    {
     "data": {
      "text/plain": [
       "PosixPath('/home/jupyter-ikharitonov/code/ecosystem1/../../pdfs/science.adk3863.pdf')"
      ]
     },
     "execution_count": 3,
     "metadata": {},
     "output_type": "execute_result"
    }
   ],
   "source": [
    "pdf_folder = '../../pdfs'\n",
    "pdf_path = Path(pdf_folder) / os.listdir(pdf_folder)[3]\n",
    "pdf_path.absolute()"
   ]
  },
  {
   "cell_type": "code",
   "execution_count": 4,
   "id": "f440b6aa-5317-4bce-9be8-f7a70ec4dd85",
   "metadata": {
    "tags": []
   },
   "outputs": [],
   "source": [
    "reader = PdfReader(pdf_path)"
   ]
  },
  {
   "cell_type": "code",
   "execution_count": 5,
   "id": "835ba6c5-590e-4e08-8375-897344086ef4",
   "metadata": {
    "tags": []
   },
   "outputs": [],
   "source": [
    "for page in reader.pages:\n",
    "    # page_text = page.extract_text()\n",
    "    # page_text = page_text.replace('\\n', '')\n",
    "    # print(page.extract_text())\n",
    "    pass"
   ]
  },
  {
   "cell_type": "code",
   "execution_count": 6,
   "id": "be14ae49-e975-4479-9fe9-92e44e4ae06d",
   "metadata": {},
   "outputs": [],
   "source": [
    "min_chunk_char = 10\n",
    "max_chunk_char = 200\n",
    "\n",
    "def stupid_chunking(text):\n",
    "    chunks = []\n",
    "    lower_bound = 0\n",
    "    for i in range(len(text)//max_chunk_char):\n",
    "        higher_bound = lower_bound + max_chunk_char\n",
    "        chunks.append(text[lower_bound:higher_bound])\n",
    "        lower_bound += max_chunk_char\n",
    "    return chunks\n",
    "\n",
    "chunks = stupid_chunking(' '.join([x.extract_text() for x in reader.pages]))"
   ]
  },
  {
   "cell_type": "code",
   "execution_count": 7,
   "id": "57e7b93d-f44b-4763-8506-048f60095e38",
   "metadata": {
    "tags": []
   },
   "outputs": [
    {
     "data": {
      "text/plain": [
       "['RESEARCH ARTICLE◥\\nNEUROSCIENCE\\nRetrograde endocannabinoid signaling at inhibitory\\nsynapses in vivo\\nBarna Dudok1,2*†, Linlin Z. Fan3†, Jordan S. Farrell2,4,5, Shreya Malhotra2,\\nJesslyn Homidan2, Doo Ky',\n",
       " 'ung Kim3, Celestine Wenardy3, Charu Ramakrishnan6,\\nYulong Li7, Karl Deisseroth3,8,9, Ivan Soltesz2\\nEndocannabinoid (eCB) –mediated suppression of inhibitory synapses has been hypothesized, but\\nthis ha',\n",
       " 's not yet been demonstrated to occur in vivo because of the difficulty in tracking eCB dynamics\\nand synaptic plasticity during behavior. In mice navigating a linear track, we observed location-\\nspecif',\n",
       " 'ic eCB signaling in hippocampal CA1 place cells, and this was detected both in the postsynapticmembrane and the presynaptic inhibitory axons. All-optical in vivo investigation of synaptic responses\\nre',\n",
       " 'vealed that postsynaptic depolarization was followed by a suppression of inhibitory synaptic\\npotentials. Furthermore, interneuron-specific cannabinoid receptor deletion altered place cell tuning.\\nTher',\n",
       " 'efore, rapid, postsynaptic, activity-dependent eCB signaling modulates inhibitory synapses on a timescale\\nof seconds during behavior.\\nStrong depolarization of neurons can in-\\nduce a transient suppress',\n",
       " 'ion of their in-\\nhibitory synaptic inputs in acute brain\\nslices ( 1,2). Such retrograde, activity-\\ndependent suppression of GABAergic\\nsynapses, referred to as depolarization-inducedsuppression of inhi',\n",
       " 'bition (DSI), is mediated\\nby endocannabinoid (eCB) signaling ( 3–5).\\nIn vitro studies have shown that robust post-\\nsynaptic calcium (post-Ca) increase during DSItriggers eCB synthesis and the retrogra',\n",
       " 'de acti-\\nvation of cannabinoid type-1 receptors (CB\\n1s),\\nw h i c hi nt u r ns u p p r e s s e sG A B Ar e l e a s e .I nt h e\\nCA1 region of the hippocampus, the highest\\nCB1expression is found on axons',\n",
       " ' of perisoma-\\ntically projecting GABAergic basket cells thatalso express cholecystokinin (CCKBCs) ( 6–8).\\nConversely, the other major basket cell type,\\nparvalbumin-expressing basket cells (PVBCs),\\ndo ',\n",
       " 'not express CB\\n1s. Correspondingly, DSI ismaximally potent at CCKBC inputs to pyram-\\nidal cells and is capable of completely muting\\nthese synapses ( 9,10).\\nDSI has been hypothesized to also occur\\nin v',\n",
       " 'ivo, but the specific neuronal activity pat-\\nt e r n st h a tg i v er i s et oD S Ir e m a i nu n k n o w n\\n(11). When mammals navigate their environ-\\nment, individual hippocampal pyramidal cells\\ndisc',\n",
       " 'harge at specific place fields ( 11,12), and\\nseveral observations are consistent with the\\npossibility that place cell firing in behaving\\nanimals may engage a DSI-like phenomenon.\\nIn vitro, externally ',\n",
       " 'imposed place cell –like ac-\\ntivity can drive DSI ( 13), and disinhibition of\\nthe postsynaptic cells by DSI can facilitate ex-\\ncitatory synapse plasticity ( 14,15). In vivo, place\\ncell formation is su',\n",
       " 'pported by reduced inhibi-\\ntion ( 16,17). A potential role of DSI in hippo-\\ncampal place field properties has been proposedRESEARCH\\n1Departments of Neurology and Neuroscience, Baylor College\\nof Medici',\n",
       " 'ne, Houston, TX 77030, USA.2Department of\\nNeurosurgery, Stanford University, Stanford, CA 94305, USA.\\n3Department of Bioengineering, Stanford University,\\nStanford, CA 94305, USA.4F.M. Kirby Neurobiolo',\n",
       " 'gy Center\\nand Rosamund Stone Zander Translational Neuroscience\\nCenter, Boston Children ’s Hospital, Boston, MA 02115, USA.\\n5Department of Neurology, Boston Children ’s Hospital,\\nHarvard Medical School',\n",
       " ', Boston, MA 02115, USA.6Cracking\\nthe Neural Code (CNC) Program, Stanford University,\\nS t a n f o r d ,C A9 4 3 0 5 ,U S A .7State Key Laboratory of Membrane\\nBiology, School of Life Sciences, Peking U',\n",
       " 'niversity, Beijing\\n100871, China.8Department of Psychiatry and Behavioral\\nSciences, Stanford University, Stanford, CA 94305, USA.\\n9Howard Hughes Medical Institute, Stanford, CA 94305, USA.\\n*Correspond',\n",
       " 'ing author. Email: barna.dudok@bcm.edu\\n†These authors contributed equally to this work.\\nFig. 1. Rapid eCB signaling in the hippocampus\\nin vivo. (A) GRAB eCB2.0 and jRGECO1a were\\nexpressed in CA1 neuro',\n",
       " 'ns. Head-fixed mice\\nran on a linear treadmill during multiphoton\\nimaging. ( B) Event-aligned average single-cell\\ncalcium and eCB responses during calcium\\ntransients. Plot shows mean responses\\n(line) ±',\n",
       " ' SEM (shaded area) for n= 4 sessions\\nfrom n= 4 vehicle-treated mice, 607 ± 241\\nROIs per session, and 5.2 ± 1.1 peaks per ROI.\\nLabels show decay time constants of exponential\\nfits. ( C) Analysis of pla',\n",
       " 'ce cells. Average tuning\\ncurves (solid black line) were calculated\\nfor each session by aligning location-averaged\\nplace cell traces on their preferred location.\\n(D) Average spatial tuning curves (±SEM',\n",
       " ')\\nare shown centered on the preferred\\nlocation of place cells (red indicates calcium)\\ntogether with the tuning curves of eCB signals\\nfrom the same cells (blue) or after shuffling cells\\nwithin sessions',\n",
       " ' (gray). One-sided, one-sample\\nttest with alternative hypothesis m>0 : P= 5.67 × 10–5,\\nn= 4 male mice; shuffle: P= 0.88. Plots show\\naverage tuning curves (line) ± SEM (shaded area),\\nn= 4 sessions from',\n",
       " ' n= 4 drug-naïve mice and\\n161 ± 35 place cell ROIs per session.\\nDudok et al.,Science 383, 967 –970 (2024) 1 March 2024 1o f4\\nDownloaded from https://www.science.org at Imperial College London on March',\n",
       " ' 01, 2024\\n (18); however, the steps that would underlie\\na retrograde, eCB-mediated, DSI-like plasticity\\nin vivo have remained speculative, and the hy-\\npothesis that DSI contributes to place cell dis-\\n',\n",
       " 'inhibition has remained untested. Here, we\\nused optical methods in mice navigating a\\nlinear track to test (i) whether place cell ac-\\ntivity in behaving animals is sufficient to trig-\\nger eCB synthesis',\n",
       " ' in the postsynaptic cell,\\n(ii) whether eCB signals affect presynaptic\\nCB1s on GABAergic terminals in vivo, and (iii)\\nw h e t h e rD S I - l i k ep l a s t i c i t yc a nm o d u l a t ep l a c e\\ncell ',\n",
       " 'activity patterns.\\nLocation-specific eCB signaling by place cells\\nThe genetically encoded G protein –coupled re-\\nceptor activation based eCB reporter GRAB eCB2.0\\nenables the recording of eCB dynamics ',\n",
       " 'withhigh spatial resolution in vivo ( 19,20). eCB mo-\\nbilization during DSI depends on post-Ca influx\\n(21). To characterize eCB signaling related to\\ncalcium transients, we expressed GRAB\\neCB2.0\\nand th',\n",
       " 'e red-shifted calcium sensor jRGECO1a(22) in CA1 neurons. We performed two-photon\\ndual calcium and eCB imaging in the pyramidal\\nlayer while mice ran several laps on a linear\\ntreadmill track with tacti',\n",
       " 'le cues (Fig. 1A) ( 23).\\nWe segmented regions of interest (ROIs) cor-\\nresponding to neuronal somata (most of which\\nin the pyramidal layer are expected to belong\\nto pyramidal cells) ( 24)a n dm e a s u',\n",
       " ' r e dc a l c i u mand eCB signals in the same ROIs. We ana-\\nlyzed calcium transients by finding peaks on\\ntraces of fluorescence change over baseline\\n(DF/F) (Fig. 1B). Transient eCB signals were\\ndetec',\n",
       " 'ted concomitant with calcium peaks (Fig.\\n1B), with a peak delayed by 1.04 ± 0.16 s rela-\\ntive to calcium and an average decay time\\nconstant of 3.53 ± 0.75 s. To investigate which\\neCB ligand contribute',\n",
       " 's to the transients, we\\nperformed the latter analysis on datasets that\\nwe previously recorded in the presence of ligand-\\nspecific inhibitors of eCB synthesis or metab-\\nolism ( 20). Calcium peak –coupl',\n",
       " 'ed eCB transients\\nwere suppressed by inhibiting the synthesis of2-arachidonoylglycerol (2-AG), the eCB species\\ninvolved in CA1 DSI in vitro ( 25). Furthermore,\\neCB transient durations were extended af',\n",
       " 'ter\\nwe treated mice with JZL 184 to inhibit mono-\\nacylglycerol lipase (MGL) and thus 2-AG deg-\\nradation ( 25,26)( f i g .S 1 ,At oC ) .C o n v e r s e l y ,\\nmanipulations altering the synthesis or deg',\n",
       " 'ra-\\ndation of the other major eCB species, an-\\nandamide (AEA), had no effect on the in vivo\\neCB transients (fig. S1, D to F).\\nNext, to investigate eCB dynamics specif-\\nically in place cells, we identi',\n",
       " 'fied place cells\\nby calculating location-specific average calcium\\nsignals (Fig. 1C). Average eCB signals were\\nelevated around the same track locations where\\ncalcium was high in the same individual pla',\n",
       " 'ce\\ncells (Fig. 1D). These results indicate that eCBmobilization in place c ells during exploration\\nis specific to the cell ’s preferred location. By\\ncontrast, non-place cells had lower calcium\\nand acc',\n",
       " 'ompanying eCB transient amplitudes\\nc o m p a r e dw i t hp l a c ec e l l si nt h es a m ef i e l do f\\nview (fig. S1G).\\nAlthough the molecular mechanisms of ret-\\nrograde eCB transport are not precisel',\n",
       " 'y under-\\nstood, there is general agreement that DSI\\nrequires the postsynaptically generated eCBs\\nto engage presynaptic CB\\n1s on interneuronal\\nterminals impinging on the activated neuron\\n(4,27) .T h u ',\n",
       " 's ,w es p e c i f i c a l l ya l l o w e dt h ee x p r e s -\\nsion of GRAB eCB2.0 only in interneurons using\\nDlx5/6-Cre transgenic mice ( 28)t oe n a b l ep r e -\\nsynaptic eCB measurements (fig. S2A). ',\n",
       " 'The\\ndistribution of GRAB eCB2.0 , a chimera of CB 1\\nand a green fluorescent protein variant, re-sembled membrane-enriched CB\\n1targeting\\n(29) in interneuron axon terminals, with no\\ndetectable postsynap',\n",
       " 'tic expression in prin-\\ncipal cells and relatively low expression in\\ninterneuron somata (fig. S2, B to F).\\nFor simultaneously imaging somatic cal-\\ncium and axonal eCB transients, we combined\\ninterneur',\n",
       " 'onal GRAB eCB2.0 and pan-neuronal,\\nred-shifted calcium sens or expression (Fig. 2A\\nand fig. S2E). We generated somatic, puta-\\ntively post-Ca ROI sets as above and measured\\nnearby axonal, putatively pr',\n",
       " 'esynaptic eCB\\n(pre-eCB) signals afte r enlarging the somatic\\nFig. 2. Spatially tuned presynaptic\\neCB signals in the hippocampus\\nin vivo. (A) Labeling strategy\\nfor in vivo imaging. Interneuronal\\nGRAB e',\n",
       " 'CB2.0 and pan-neuronal\\njRGECO1a expression were combined.\\nBottom panels show the segmenta-\\ntion approach. Neuron cell bodies\\nwere segmented in the jRGECO1a\\nchannel (post-Ca). The ROIs\\nwere enlarged by',\n",
       " ' binary dilation\\nfor measuring signals in the\\nneighboring axons in the GRAB eCB2.0\\nchannel (pre-eCB). ( B) Average\\nspatial tuning curves (±SEM) are shown\\ncentered on the preferred location\\nof place ce',\n",
       " 'lls (red indicates calcium)\\ntogether with the tuning curves of\\neCB signals from the corresponding\\npre-eCB ROIs (blue) or after shuffling\\nROIs within sessions (gray), n=1 8\\nsessions from n= 5 mice and\\n',\n",
       " '193 ± 130 ROIs per session.\\n(C) Quantification of signal intensity\\nat the preferred location. Boxes\\nindicate median ± interquartile range;\\nwhiskers: nonoutlier range; markers:\\nrecording sessions. pre-',\n",
       " 'eCB: P= 0.002, n= 5 mice ( n= 3 males and n= 2 females); shuffle: P= 0.69. ( D) Spatial tuning curves are shown after injecting mice\\nwith JZL-184 to inhibit the enzymatic breakdown of the eCB 2-AG by ',\n",
       " 'MGL or after vehicle injection. ( E) Quantification of location-specific pre-eCB signals, P= 0.0004,\\nMann-Whitney test, n= 14 vehicle sessions from n= 5 mice and n= 6 JZL sessions from n= 3 mice.\\nRESE',\n",
       " 'ARCH |RESEARCH ARTICLE\\nDudok et al.,Science 383, 967 –970 (2024) 1 March 2024 2o f4\\nDownloaded from https://www.science.org at Imperial College London on March 01, 2024\\n ROIs (Fig. 2A). Similar to eCB',\n",
       " ' signals mea-\\nsured in place cell somata (Fig. 1D), pre-eCB\\nsignals in interneuronal axons surrounding\\nplace cells were elevated at the same track\\nlocations where post-Ca was high (Fig. 2, B\\nand C). T',\n",
       " 'hese results indicate that place cellactivations during behavior are accompa-\\nnied by eCB signaling at perisomatic inhib-\\nitory axons.\\nSimilarly to DSI in vitro ( 30)a n dc a l c i u m\\ntransient –rela',\n",
       " 'ted post-eCB signals in vivo (fig.\\nS1B), location-specific pre-eCB signals aroundplace cells were magnified by pharmacologic-\\nal inhibition of 2-AG degradation (Fig. 2, D\\nand E), consistent with a pro',\n",
       " 'minent role of\\n2-AG in inhibitory axon eCB signaling while\\nn o tr u l i n go u tt h ep a r t i a li n v o l v e m e n to f\\nother eCBs such as AEA.\\nFig. 3. Inhibitory synaptic plasticity in behaving mi',\n",
       " 'ce. (A) Labeling strategy for\\nthe all-optical assay of CCKBC synaptic function in vivo. ( B) Top: example unfiltered\\nfluorescence traces from four CA1 neuro ns [(a) to (d)]. Bottom: spike raster ( n=\\n',\n",
       " '30 neurons from n= 5 mice). Cyan bars indicate CCKBC photostimulation onset\\n(488 nm, 10 ms duration, 9.5 to 20 mW/mm2,0 . 5H z ) .( C)M e a ns u b t h r e s h o l d\\npostsynaptic waveforms after pres y',\n",
       " 'naptic CCKBC photostimulation ( n=3 0n e u r o n s\\nfrom n=5m i c e ) .( D) Unfiltered example traces of plateau-driven complex spikes\\n(CS, red arrows) preceding photostimulation events. ( E) Additiona',\n",
       " 'l example traces from\\nthe same cells as in (D) without comple x spikes occurring within 1 s before the\\nstimulation. ( F) Stimulus-triggered average (mean ± SEM) oeIPSP (black: with CS;\\norange: without',\n",
       " ' CS). ( G) Quantification of neuronal depolarization before stimulationand oeIPSP amplitudes (negative values) during trials with or without preceding\\ncomplex spikes (de polarization: P= 0.0076, paire',\n",
       " 'd ttest, n=1 5c e l l sf r o m n=4\\nmice; oeIPSP amplitude: P=0 . 0 0 4 5 ) .( H) Histograms of place field sizes of\\nindividual place cells in control mice and after cell-type-specific CB 1KO in GABAer',\n",
       " 'gic\\nneurons (GABA-CB 1-KO). n= 420 ± 254 place cells from n= 5 control and n=3\\nGABA-CB 1-KO mice. ( I) Quantification of place cell place field size and spatial\\ninformation. n=1 3s e s s i o n sf r o ',\n",
       " 'm n= 2 male and n=2f e m a l ec o n t r o lm i c e ; n=\\n19 sessions from n= 3 male GABA-CB1-KO mice. Markers and box plots show\\nindividual sessions (boxes: median ± interquartile range, whiskers: nono',\n",
       " 'utlier range).\\nPlace field size: P=0 . 0 3 2 , c2(1) = 4.59; spatial information: P=0 . 0 0 4 , c2(1) =\\n8.5, linear mixed effects models and likelihood ratio test.RESEARCH |RESEARCH ARTICLE\\nDudok et a',\n",
       " 'l.,Science 383, 967 –970 (2024) 1 March 2024 3o f4\\nDownloaded from https://www.science.org at Imperial College London on March 01, 2024\\n Postsynaptic activity –dependent modulation\\nof inhibitory posts',\n",
       " 'ynaptic potentials\\nRetrograde eCB sig naling through CB 1inhibits\\nCCKBC to pyramidal cell synapses in vitro\\n(9,31). On the basis of our results showing\\neCB transients time-locked to calcium tran-\\nsien',\n",
       " 'ts, we expected to observe an activity-\\ndependent modulation of CCKBC synapses.\\nWe used a CCKBC-specific (Sncg-FlpO) mouse\\nline to test this hypothesis ( 32) and developed\\nan all-optical method to stu',\n",
       " 'dy synaptic trans-\\nmission between CCKBCs and postsynaptic\\nneurons. These animals express the FlpO\\nrecombinase enzyme specifically in gamma-synuclein (Sncg) –expressing cells. Sncg is ex-\\npressed sele',\n",
       " 'ctively in CCKBCs; therefore, FlpO\\nwill be expressed specifically in this cell pop-\\nulation in Sncg-FlpO mice. We expressed FlpO-\\ndependent excitatory opsin (sombC1C2TG) ( 33)\\nin CCKBCs and a soma-loc',\n",
       " 'alized genetically\\nencoded voltage indicator (GEVI, somQuasAr6a)\\n(34) in sparsely labeled CA1 neurons in Sncg-\\nFlpO mice (Fig. 3A and fig. S3A). We imaged\\nGEVI in awake mice head-fixed on a spherical\\n',\n",
       " 'treadmill while activating CCKBCs with photo-\\nstimulation (Fig. 3B). Brief CCKBC activation\\nelicited time-locked CA1 neuronal hyperpo-\\nlarization, consistent with optogenetically\\nevoked inhibitory pos',\n",
       " 'tsynaptic potentials\\n(oeIPSP; Fig. 3C).\\nPlateau-driven complex spikes in CA1 py-\\nramidal cells are particularly important for\\nsynaptic plasticity ( 12,33,35). We identified\\nplateau-driven complex spik',\n",
       " 'es with voltage im-\\naging and then grouped the photostimulation-\\ninduced responses based on the presence or\\nabsence of complex spikes during the 1 s before\\nthe stimulus (Fig. 3, D and E). Whereas oeIP',\n",
       " 'SPs\\nwere detectable in the absence of a preceding\\ncomplex spike (Fig. 3E), the same postsynaptic\\ncells showed reduced oeIPSPs after complex\\ns p i k e s( F i g .3 ,D ,F ,a n dG ) .A se x p e c t e d ,t',\n",
       " ' h e\\naverage postsynaptic depolarization before the\\nCCKBCs stimulus was higher in the presence\\nof complex spikes (Fig. 3G). Together, these\\nresults demonstrate a transient suppression of\\nCCKBC inhibit',\n",
       " 'ion after complex spikes, con-sistent with a DSI-like mechanism.\\nInterneuron cannabinoid receptors modulate\\nplace cell activity patterns\\nThe above results provide evidence for post-\\nsynaptic neuronal ',\n",
       " 'activity –dependent modula-\\ntion of CCKBC synapses in vivo. A suppression\\nof inhibition could disinhibit place cells during\\nplace field traversal, contributing to location-\\nspecific place cell activit',\n",
       " 'y ( 16,36). To deter-\\nmine whether preventing inhibitory synaptic\\neCB signaling may lead to altered place fields,\\nwe knocked out CB 1selectively in forebrain\\nGABAergic neurons (GABA-CB 1-KO, lacking\\nC',\n",
       " 'B1from perisomatic and dendritic interneur-\\nons) ( 28) (fig. S3B) and recorded place cell cal-\\ncium signals during a spatial navigation taskas mice foraged for a water reward. Both con-\\ntrol (Dlx-Cre)',\n",
       " ' and GABA-CB 1-KO mice exhibited\\nspatially tuned calcium signals, suggesting\\nthat CB 1expression by GABAergic neurons is\\nnot required for place field formation per se\\n(fig. S3, C and D). However, we o',\n",
       " 'bserved a\\nwidening of place fields in GABA-CB 1-KO mice\\nrelative to mice with intact CB 1expression\\n(Fig. 3, H and I). Analyzing the properties of\\nindividual place cells revealed that in the ab-\\nsence',\n",
       " ' of interneuron CB1 expression, place cells\\nwere active over a larger fraction of the belt and\\naltogether encoded less spatial information\\n(Fig. 3I and fig. S3, C to J). In GABA-CB 1-KO\\nmice, place ce',\n",
       " 'lls fired less reliably lap-to-lap,\\nand had fewer calcium transients near the\\npreferred location (fig. S3, H and I). As a\\npopulation, place cells in the GABA-CB 1-KO\\nencoded mouse location less accura',\n",
       " 'tely com-\\npared with control despite the similar ratio of\\nplace cells (fig. S3, E and J). The observed changes\\nin place cell activity patterns are consistent with\\nthe reported impaired spatial learnin',\n",
       " 'g perfor-\\nmance of GABA-CB 1-KO mice ( 37) and mice\\nwith perturbed CCKBC development ( 38).\\nIn this study, we report (i) rapid eCB signals\\ntime-locked to calcium transients in hippo-\\ncampal neurons in',\n",
       " 'cluding place cells, both in\\nthe postsynaptic membrane and the presynap-\\ntic inhibitory axons; (ii) modulation of CCKBC\\nsynapses correlated to pa st postsynaptic activ-\\nity; and (iii) diminished place',\n",
       " ' cell place field\\nproperties in the absence of eCB signaling at\\ninhibitory synapses. O ur results d emonstrate\\nthat an eCB-mediated, DSI-like plasticity is\\ncapable of rapid modulation of inhibition in',\n",
       " '\\nvivo on the behaviorally relevant timescale\\nof seconds. Because of the selective expres-\\nsion of CB 1at synapses of CCK-expressing but\\nn o tP V - e x p r e s s i n gi n t e r neurons, DSI may en-\\nabl',\n",
       " 'e recently activated place cells to maintain\\nelevated excitability without suppressing the\\na b i l i t yo fP V B Cs y n a p s e st os y n c h r o n i z et h eP C\\npopulation activity dynamics to theta ',\n",
       " 'and\\ngamma oscillations ( 39,40). Such a selective,\\nlasting suppression of inhibition involving CB 1\\nsignaling may also contribute to maintaining\\nan eligibility trace for non-Hebbian activity –\\ndepende',\n",
       " 'nt plasticity ( 41).\\nREFERENCES AND NOTES\\n1. I. Llano, N. Leresche, A. Marty, Neuron 6, 565 –574 (1991).\\n2. T. A. Pitler, B. E. Alger, J. Neurosci. 12, 4122 –4132 (1992).\\n3. A. C. Kreitzer, W. G. Rege',\n",
       " 'hr, J. Neurosci. 21, RC174 (2001).\\n4. R. I. Wilson, R. A. Nicoll, Nature 410, 588 –592 (2001).\\n5. T. Maejima, K. Hashimoto, T. Yoshida, A. Aiba, M. Kano, Neuron\\n31, 463 –475 (2001).\\n6. I. Katona et al',\n",
       " '.,J. Neurosci. 19, 4544 –4558 (1999).\\n7. K. Tsou, S. Brown, M. C. Sañudo-Peña, K. Mackie, J. M. Walker,\\nNeuroscience 83, 393 –411 (1998).\\n8. G. Marsicano, B. Lutz, Eur. J. Neurosci. 11, 4213 –4225 (19',\n",
       " '99).\\n9. C. Földy, A. Neu, M. V. Jones, I. Soltesz, J. Neurosci. 26,\\n1465 –1469 (2006).\\n10. S.-H. Lee et al.,J. Neurosci. 35, 10039 –10057 (2015).\\n11. J. O ’Keefe, J. Dostrovsky, Brain Res. 34, 171 –17',\n",
       " '5 (1971).\\n12. K. C. Bittner et al.,Nat. Neurosci. 18, 1133 –1142 (2015).\\n13. F. Dubruc, D. Dupret, O. Caillard, J. Neurophysiol. 110,\\n1930 –1944 (2013).14. G. Carlson, Y. Wang, B. E. Alger, Nat. Neuro',\n",
       " 'sci. 5,7 2 3 –724 (2002).\\n15. V. Chevaleyre, P. E. Castillo, Neuron 43, 871 –881 (2004).\\n16. M. Valero, A. Navas-Olive, L. M. de la Prida, G. Buzsáki, Cell Rep.\\n40, 111232 (2022).\\n17. S. V. Rolotti et',\n",
       " ' al.,Neuron 110, 783 –794.e6 (2022).\\n18. T. F. Freund, I. Katona, D. Piomelli, Physiol. Rev. 83, 1017 –1066\\n(2003).\\n19. A. Dong et al.,Nat. Biotechnol. 40, 787 –798 (2022).\\n20. J. S. Farrell et al.,Ne',\n",
       " 'uron 109, 2398 –2403.e4 (2021).\\n21. Y. Hashimotodani, T. Ohno-Shosaku, M. Kano, Curr. Opin.\\nNeurobiol. 17, 360 –365 (2007).\\n22. H. Dana et al.,eLife 5, e12727 (2016).\\n23. N. B. Danielson et al.,Neuron',\n",
       " ' 91, 652 –665 (2016).\\n24. P. Kaifosh, J. D. Zaremba, N. B. Danielson, A. Losonczy,\\nFront. Neuroinform. 8, 80 (2014).\\n25. Y. Hashimotodani, T. Ohno-Shosaku, T. Maejima, K. Fukami,\\nM. Kano, Neuropharmac',\n",
       " 'ology 54,5 8 –67 (2008).\\n26. J. Z. Long, D. K. Nomura, B. F. Cravatt, Chem. Biol. 16,\\n744–753 (2009).\\n27. E. Albarran et al.,Nat. Neurosci. 26, 997 –1007 (2023).\\n28. K. Monory et al.,Neuron 51, 455 –4',\n",
       " '66 (2006).\\n29. B. Dudok et al.,Nat. Neurosci. 18,7 5–86 (2015).\\n30. B. Pan et al.,J. Pharmacol. Exp. Ther. 331, 591 –597 (2009).\\n31. L. L. Glickfeld, M. Scanziani, Nat. Neurosci. 9, 807 –815 (2006).\\n3',\n",
       " '2. B. Dudok et al.,Neuron 109, 997 –1012.e9 (2021).\\n33. L. Z. Fan et al.,Cell 186, 543 –559.e19 (2023).\\n34. H. Tian et al.,Nat. Methods 20, 1082 –1094 (2023).\\n35. J. Epsztein, M. Brecht, A. K. Lee, Ne',\n",
       " 'uron 70, 109 –120 (2011).\\n36. S. Royer et al.,Nat. Neurosci. 15, 769 –775 (2012).\\n37. Ö. Albayram, S. Passlick, A. Bilkei-Gorzo, A. Zimmer,\\nC. Steinhäuser, Pflugers Arch. 468, 727 –737 (2016).\\n38. I. ',\n",
       " 'Del Pino et al.,Nat. Neurosci. 20, 784 –792 (2017).\\n39. C. Varga, P. Golshani, I. Soltesz, Proc. Natl. Acad. Sci. U.S.A.\\n109, E2726 –E2734 (2012).\\n40. M. Bartos et al.,Proc. Natl. Acad. Sci. U.S.A. 99',\n",
       " ', 13222 –13227\\n(2002).\\n41. A. D. Milstein et al.,eLife 10, e73046 (2021).\\nACKNOWLEDGMENTS\\nWe thank A. Ortiz, C. Porter, S. Linder, and K. Patron for technical and\\nadministrative support. Funding: This',\n",
       " ' work was supported by the\\nNational Institute of Neurological Disorders and Stroke (NINDS) of the\\nNational Institutes of Health (NIH). The content is solely the\\nresponsibility of the authors and does ',\n",
       " 'not necessarily represent the\\nofficial views of the NIH. This work was supported by the NIH (grants\\nR01NS99457, R01NS131728, and R01NS133381 to I.S.; grantR00NS117795 to B.D.; grant K99MH132871 to L.Z',\n",
       " '.F.; and grant\\nK99NS126725 to J.S.F.); the Knight Initiative for Brain Resilience\\n(grant KCG-116 to I.S.); a McNair scholarship from the McNair Medical\\nInstitute at The Robert and Janice McNair Founda',\n",
       " 'tion to B.D.; a\\nHelen Hay Whitney fellowship to L.Z.F.; a Burroughs Wellcome Fund\\nCareer Award at the Scientific Interface to L.Z.F.; a Stanford University\\nBio-X Undergraduate Summer Research Program ',\n",
       " 'grant to C.W.;and the National Institute of Mental Health, National Institute on Drug\\nAbuse, National Science Foundation, Gatsby Foundation, Fresenius\\nFoundation, AE Foundation, Tarlton Foundation, an',\n",
       " 'd NOMIS\\nFoundation to K.D. Author contributions: Conceptualization: B.D.,\\nL.Z.F., K.D., I.S.; Formal analysis: B.D., L.Z.F.; Funding acquisition:B.D., K.D., I.S.; Investigation: B.D., L.Z.F., J.S.F., ',\n",
       " 'S.M., J.H., D.K., C.W.,\\nC.R.; Methodology: B.D., L.Z.F., J.S.F.; Resources: Y.L.; Supervision:\\nK.D., I.S.; Visualization: B.D., L.Z.F.; Writing –original draft: B.D., L.Z.F.,\\nI.S.; Writing –review & e',\n",
       " 'diting: all authors. Competing interests: I.S.\\ndeclares unrelated consultant activity for Actio Biosciences, CODA\\nBiotherapeutics, MapLight Therapeutics, Praxis Precision Medicines,\\nand Ray Therapeuti',\n",
       " 'cs. K.D. declares unrelated consultant activityfor MapLight Therapeutics and Stellaromics. The remaining authors\\ndeclare no competing interests. Data and materials availability:\\nAll data, code, and ma',\n",
       " 'terials are available from the authors upon\\nreasonable request. License information: Copyright © 2024 the\\nauthors, some rights reserved; exclusive licensee AmericanAssociation for the Advancement of S',\n",
       " 'cience. No claim to original\\nUS government works. https://www.science.org/about/science-\\nlicenses-journal-article-reuse\\nSUPPLEMENTARY MATERIALS\\nscience.org/doi/10.1126/science.adk3863\\nMaterials and Me',\n",
       " 'thods\\nFigs. S1 to S3References ( 42–45)\\nMDAR Reproducibility Checklist\\nSubmitted 18 August 2023; accepted 24 January 2024\\n10.1126/science.adk3863RESEARCH |RESEARCH ARTICLE\\nDudok et al.,Science 383, 96']"
      ]
     },
     "execution_count": 7,
     "metadata": {},
     "output_type": "execute_result"
    }
   ],
   "source": [
    "chunks"
   ]
  },
  {
   "cell_type": "code",
   "execution_count": null,
   "id": "4313da24-a7b5-4016-96ab-7072c49a8b86",
   "metadata": {},
   "outputs": [],
   "source": []
  },
  {
   "cell_type": "code",
   "execution_count": 11,
   "id": "22ba4675-e649-4d94-b0f0-43a803a5f8fa",
   "metadata": {
    "tags": []
   },
   "outputs": [
    {
     "ename": "ModuleNotFoundError",
     "evalue": "No module named 'transformers'",
     "output_type": "error",
     "traceback": [
      "\u001b[0;31m---------------------------------------------------------------------------\u001b[0m",
      "\u001b[0;31mModuleNotFoundError\u001b[0m                       Traceback (most recent call last)",
      "Cell \u001b[0;32mIn[11], line 1\u001b[0m\n\u001b[0;32m----> 1\u001b[0m \u001b[38;5;28;01mfrom\u001b[39;00m \u001b[38;5;21;01msentence_transformers\u001b[39;00m \u001b[38;5;28;01mimport\u001b[39;00m SentenceTransformer, util\n",
      "File \u001b[0;32m/opt/tljh/user/envs/jh_llms/lib/python3.12/site-packages/sentence_transformers/__init__.py:3\u001b[0m\n\u001b[1;32m      1\u001b[0m __version__ \u001b[38;5;241m=\u001b[39m \u001b[38;5;124m\"\u001b[39m\u001b[38;5;124m2.6.1\u001b[39m\u001b[38;5;124m\"\u001b[39m\n\u001b[1;32m      2\u001b[0m __MODEL_HUB_ORGANIZATION__ \u001b[38;5;241m=\u001b[39m \u001b[38;5;124m\"\u001b[39m\u001b[38;5;124msentence-transformers\u001b[39m\u001b[38;5;124m\"\u001b[39m\n\u001b[0;32m----> 3\u001b[0m \u001b[38;5;28;01mfrom\u001b[39;00m \u001b[38;5;21;01m.\u001b[39;00m\u001b[38;5;21;01mdatasets\u001b[39;00m \u001b[38;5;28;01mimport\u001b[39;00m SentencesDataset, ParallelSentencesDataset\n\u001b[1;32m      4\u001b[0m \u001b[38;5;28;01mfrom\u001b[39;00m \u001b[38;5;21;01m.\u001b[39;00m\u001b[38;5;21;01mLoggingHandler\u001b[39;00m \u001b[38;5;28;01mimport\u001b[39;00m LoggingHandler\n\u001b[1;32m      5\u001b[0m \u001b[38;5;28;01mfrom\u001b[39;00m \u001b[38;5;21;01m.\u001b[39;00m\u001b[38;5;21;01mSentenceTransformer\u001b[39;00m \u001b[38;5;28;01mimport\u001b[39;00m SentenceTransformer\n",
      "File \u001b[0;32m/opt/tljh/user/envs/jh_llms/lib/python3.12/site-packages/sentence_transformers/datasets/__init__.py:1\u001b[0m\n\u001b[0;32m----> 1\u001b[0m \u001b[38;5;28;01mfrom\u001b[39;00m \u001b[38;5;21;01m.\u001b[39;00m\u001b[38;5;21;01mDenoisingAutoEncoderDataset\u001b[39;00m \u001b[38;5;28;01mimport\u001b[39;00m DenoisingAutoEncoderDataset\n\u001b[1;32m      2\u001b[0m \u001b[38;5;28;01mfrom\u001b[39;00m \u001b[38;5;21;01m.\u001b[39;00m\u001b[38;5;21;01mNoDuplicatesDataLoader\u001b[39;00m \u001b[38;5;28;01mimport\u001b[39;00m NoDuplicatesDataLoader\n\u001b[1;32m      3\u001b[0m \u001b[38;5;28;01mfrom\u001b[39;00m \u001b[38;5;21;01m.\u001b[39;00m\u001b[38;5;21;01mParallelSentencesDataset\u001b[39;00m \u001b[38;5;28;01mimport\u001b[39;00m ParallelSentencesDataset\n",
      "File \u001b[0;32m/opt/tljh/user/envs/jh_llms/lib/python3.12/site-packages/sentence_transformers/datasets/DenoisingAutoEncoderDataset.py:5\u001b[0m\n\u001b[1;32m      3\u001b[0m \u001b[38;5;28;01mfrom\u001b[39;00m \u001b[38;5;21;01m.\u001b[39;00m\u001b[38;5;21;01m.\u001b[39;00m\u001b[38;5;21;01mreaders\u001b[39;00m\u001b[38;5;21;01m.\u001b[39;00m\u001b[38;5;21;01mInputExample\u001b[39;00m \u001b[38;5;28;01mimport\u001b[39;00m InputExample\n\u001b[1;32m      4\u001b[0m \u001b[38;5;28;01mimport\u001b[39;00m \u001b[38;5;21;01mnumpy\u001b[39;00m \u001b[38;5;28;01mas\u001b[39;00m \u001b[38;5;21;01mnp\u001b[39;00m\n\u001b[0;32m----> 5\u001b[0m \u001b[38;5;28;01mfrom\u001b[39;00m \u001b[38;5;21;01mtransformers\u001b[39;00m\u001b[38;5;21;01m.\u001b[39;00m\u001b[38;5;21;01mutils\u001b[39;00m\u001b[38;5;21;01m.\u001b[39;00m\u001b[38;5;21;01mimport_utils\u001b[39;00m \u001b[38;5;28;01mimport\u001b[39;00m is_nltk_available, NLTK_IMPORT_ERROR\n\u001b[1;32m      8\u001b[0m \u001b[38;5;28;01mclass\u001b[39;00m \u001b[38;5;21;01mDenoisingAutoEncoderDataset\u001b[39;00m(Dataset):\n\u001b[1;32m      9\u001b[0m \u001b[38;5;250m    \u001b[39m\u001b[38;5;124;03m\"\"\"\u001b[39;00m\n\u001b[1;32m     10\u001b[0m \u001b[38;5;124;03m    The DenoisingAutoEncoderDataset returns InputExamples in the format: texts=[noise_fn(sentence), sentence]\u001b[39;00m\n\u001b[1;32m     11\u001b[0m \u001b[38;5;124;03m    It is used in combination with the DenoisingAutoEncoderLoss: Here, a decoder tries to re-construct the\u001b[39;00m\n\u001b[0;32m   (...)\u001b[0m\n\u001b[1;32m     15\u001b[0m \u001b[38;5;124;03m    :param noise_fn: A noise function: Given a string, it returns a string with noise, e.g. deleted words\u001b[39;00m\n\u001b[1;32m     16\u001b[0m \u001b[38;5;124;03m    \"\"\"\u001b[39;00m\n",
      "\u001b[0;31mModuleNotFoundError\u001b[0m: No module named 'transformers'"
     ]
    }
   ],
   "source": [
    "from sentence_transformers import SentenceTransformer, util"
   ]
  },
  {
   "cell_type": "code",
   "execution_count": 9,
   "id": "883d6de7-d6c1-4fb5-ae70-9f44fc5aad2b",
   "metadata": {
    "tags": []
   },
   "outputs": [],
   "source": [
    "cache_folder = '../../disk2/hugghingface_models'"
   ]
  },
  {
   "cell_type": "code",
   "execution_count": 10,
   "id": "c0148252-ca9e-40b0-8f00-9cff5194ede3",
   "metadata": {
    "tags": []
   },
   "outputs": [
    {
     "ename": "NameError",
     "evalue": "name 'SentenceTransformer' is not defined",
     "output_type": "error",
     "traceback": [
      "\u001b[0;31m---------------------------------------------------------------------------\u001b[0m",
      "\u001b[0;31mNameError\u001b[0m                                 Traceback (most recent call last)",
      "Cell \u001b[0;32mIn[10], line 2\u001b[0m\n\u001b[1;32m      1\u001b[0m \u001b[38;5;66;03m# embedding chunks\u001b[39;00m\n\u001b[0;32m----> 2\u001b[0m model \u001b[38;5;241m=\u001b[39m \u001b[43mSentenceTransformer\u001b[49m(\u001b[38;5;124m\"\u001b[39m\u001b[38;5;124mall-MiniLM-L6-v2\u001b[39m\u001b[38;5;124m\"\u001b[39m, cache_folder\u001b[38;5;241m=\u001b[39mcache_folder)\n\u001b[1;32m      3\u001b[0m embeddings \u001b[38;5;241m=\u001b[39m model\u001b[38;5;241m.\u001b[39mencode(chunks)\n",
      "\u001b[0;31mNameError\u001b[0m: name 'SentenceTransformer' is not defined"
     ]
    }
   ],
   "source": [
    "# embedding chunks\n",
    "model = SentenceTransformer(\"all-MiniLM-L6-v2\", cache_folder=cache_folder)\n",
    "embeddings = model.encode(chunks)"
   ]
  },
  {
   "cell_type": "code",
   "execution_count": 10,
   "id": "fcd59e67-b5cf-4045-b37e-941dd1ad5a51",
   "metadata": {
    "tags": []
   },
   "outputs": [
    {
     "data": {
      "text/plain": [
       "(110, 384)"
      ]
     },
     "execution_count": 10,
     "metadata": {},
     "output_type": "execute_result"
    }
   ],
   "source": [
    "embeddings.shape"
   ]
  },
  {
   "cell_type": "code",
   "execution_count": null,
   "id": "838c05aa-79c5-496c-9a8c-d80d90661566",
   "metadata": {},
   "outputs": [],
   "source": []
  },
  {
   "cell_type": "code",
   "execution_count": 11,
   "id": "9f29410f-d493-445b-8450-ebed04ce73fe",
   "metadata": {},
   "outputs": [],
   "source": [
    "# Save into a \"database\""
   ]
  },
  {
   "cell_type": "code",
   "execution_count": 12,
   "id": "3bba06a1-7406-43b3-9529-39439762da33",
   "metadata": {
    "tags": []
   },
   "outputs": [],
   "source": [
    "current_id = -1\n",
    "# temp_list_chunks = []\n",
    "# temp_list_embeddings = []\n",
    "test_list = []\n",
    "\n",
    "for i in range(len(chunks)):\n",
    "    current_id+=1\n",
    "    temp_dict = {'id': current_id, 'name': pdf_path.name, 'content': chunks[i]}\n",
    "    for j in range(embeddings.shape[1]):\n",
    "        temp_dict[f'dim_{j}'] =  embeddings[i, j]\n",
    "    test_list.append(temp_dict)\n",
    "    \n",
    "pd.DataFrame(test_list).to_csv('../../disk1/vector_database.csv', index=False)"
   ]
  },
  {
   "cell_type": "code",
   "execution_count": 13,
   "id": "65736ecc-cffe-4e4e-a1c6-9da294b18a0e",
   "metadata": {
    "tags": []
   },
   "outputs": [],
   "source": [
    "df = pd.read_csv('../../disk1/vector_database.csv')"
   ]
  },
  {
   "cell_type": "code",
   "execution_count": 14,
   "id": "bbfba367-f6fc-450b-894a-1d00f98f11ae",
   "metadata": {
    "tags": []
   },
   "outputs": [
    {
     "data": {
      "text/plain": [
       "(110, 384)"
      ]
     },
     "execution_count": 14,
     "metadata": {},
     "output_type": "execute_result"
    }
   ],
   "source": [
    "def get_embedding_array(path):\n",
    "    df = pd.read_csv(path)\n",
    "    return [df.iloc[i].values[0] for i in range(df.shape[0])], [df.iloc[i].values[2] for i in range(df.shape[0])], np.vstack([df.iloc[i].values[3:] for i in range(df.shape[0])]).astype(np.float32)\n",
    "\n",
    "loaded_ids, loaded_chunks, loaded_embeddings = get_embedding_array('../../disk1/vector_database.csv')\n",
    "loaded_embeddings.shape"
   ]
  },
  {
   "cell_type": "code",
   "execution_count": null,
   "id": "0f3f210f-9668-4381-ae7f-0c6535bc59f7",
   "metadata": {},
   "outputs": [],
   "source": []
  },
  {
   "cell_type": "code",
   "execution_count": 15,
   "id": "40a9eb9d-d7a8-4248-a3d8-1021166fa20f",
   "metadata": {
    "tags": []
   },
   "outputs": [],
   "source": [
    "# semantic search\n",
    "def get_similar_results(query, embeddings, chunks, num_results=5):\n",
    "    query_embedding = model.encode(query)\n",
    "\n",
    "    # We use cosine-similarity and torch.topk to find the highest 5 scores\n",
    "    cos_scores = util.cos_sim(query_embedding, embeddings)[0]\n",
    "    top_results = torch.topk(cos_scores, k=num_results)\n",
    "    return list(np.array(chunks)[top_results.indices.numpy()])"
   ]
  },
  {
   "cell_type": "code",
   "execution_count": null,
   "id": "f6f4504a-1717-404c-a48e-dfaa3bf0e76c",
   "metadata": {
    "tags": []
   },
   "outputs": [],
   "source": [
    "print('\\n\\n'.join(get_similar_results('eye movements', loaded_embeddings, loaded_chunks)))"
   ]
  },
  {
   "cell_type": "code",
   "execution_count": null,
   "id": "614c1b77-5120-43b6-9a6c-d359e8dfb630",
   "metadata": {},
   "outputs": [],
   "source": []
  },
  {
   "cell_type": "code",
   "execution_count": 17,
   "id": "c864a5be-8378-4033-8f85-514e558eec4c",
   "metadata": {
    "tags": []
   },
   "outputs": [
    {
     "name": "stderr",
     "output_type": "stream",
     "text": [
      "Loading checkpoint shards: 100%|██████████| 3/3 [00:02<00:00,  1.27it/s]\n"
     ]
    }
   ],
   "source": [
    "# Llama local launch\n",
    "\n",
    "# https://ai.meta.com/blog/5-steps-to-getting-started-with-llama-2/\n",
    "# https://huggingface.co/docs/transformers/main/en/model_doc/llama2#transformers.LlamaConfig\n",
    "# https://huggingface.co/docs/transformers/en/main_classes/pipelines#transformers.pipeline\n",
    "\n",
    "import transformers\n",
    "from transformers import LlamaForCausalLM, LlamaTokenizer\n",
    "\n",
    "\n",
    "model_dir = \"../../disk1/llama_weights/llama-2-7b-chat-hf\"\n",
    "model = LlamaForCausalLM.from_pretrained(model_dir)\n",
    "\n",
    "\n",
    "# tokenizer_dir = '../../disk1/llama_weights/tokenizer.model'\n",
    "tokenizer = LlamaTokenizer.from_pretrained(model_dir)"
   ]
  },
  {
   "cell_type": "code",
   "execution_count": 19,
   "id": "0dab57d8-01d7-4b66-bf87-1378034f10a9",
   "metadata": {
    "tags": []
   },
   "outputs": [],
   "source": [
    "# pipeline = transformers.pipeline(\"text-generation\", model=model, tokenizer=tokenizer, torch_dtype=torch.float16, device_map=\"auto\")\n",
    "# pipeline = transformers.pipeline(\"text-generation\", model=model, tokenizer=tokenizer, torch_dtype='auto', device='cuda:0')\n",
    "pipeline = transformers.pipeline(\"text-generation\", model=model, tokenizer=tokenizer, torch_dtype='auto', device_map='auto')"
   ]
  },
  {
   "cell_type": "code",
   "execution_count": 20,
   "id": "907301a3-7856-48fe-a575-7936271b6a87",
   "metadata": {
    "tags": []
   },
   "outputs": [
    {
     "name": "stderr",
     "output_type": "stream",
     "text": [
      "Truncation was not explicitly activated but `max_length` is provided a specific value, please use `truncation=True` to explicitly truncate examples to max length. Defaulting to 'longest_first' truncation strategy. If you encode pairs of sequences (GLUE-style) with the tokenizer you can select this strategy more precisely by providing a specific strategy to `truncation`.\n",
      "Setting `pad_token_id` to `eos_token_id`:2 for open-end generation.\n"
     ]
    },
    {
     "name": "stdout",
     "output_type": "stream",
     "text": [
      "What kind of eye movement relfexes exist in humans?\n",
      "There are several types of eye movement reflexes in humans, including:\n",
      "1. Pursuit reflex: This reflex causes the eyes to move in a smooth, continuous manner to track a moving object.\n",
      "2. Saccadic reflex: This reflex causes the eyes to make quick, jerky movements (saccades) to shift the gaze between different points in the visual field.\n",
      "3. Fixational reflex: This reflex causes the eyes to make small adjustments to the point of gaze in order to maintain a steady fixation on a particular point or object.\n",
      "4. Smooth pursuit reflex: This reflex causes the eyes to move in a smooth, continuous manner to track a moving object, but without the quick, jerky movements of the saccadic reflex.\n",
      "5. Optokinetic reflex: This reflex causes the eyes to move in response to a moving visual stimulus, such as a spinning wheel.\n",
      "6. Vestibulo-ocular reflex: This reflex causes the eyes to move in response to changes in the position and balance of the head, and helps to maintain steady vision during head movements.\n",
      "7. Gaze evoked reflex: This reflex causes the eyes to move in response to a visual stimulus, such as looking at a face or object.\n",
      "8. Reflexive eye movements in response to auditory stimuli: This reflex causes the eyes to move in response to sounds, such as looking towards the source of a sound.\n",
      "9. Reflexive eye movements in response to somatosensory stimuli: This reflex causes the eyes to move in response to touch or other sensory stimuli, such as looking towards a touched body part.\n",
      "These are the main types of eye movement reflexes in humans,\n"
     ]
    }
   ],
   "source": [
    "sequences = pipeline('What kind of eye movement relfexes exist in humans?\\n', do_sample=True,\n",
    "top_k=10, num_return_sequences=1, eos_token_id=tokenizer.eos_token_id, max_length=400)\n",
    "\n",
    "for seq in sequences:\n",
    "    print(f\"{seq['generated_text']}\")"
   ]
  },
  {
   "cell_type": "code",
   "execution_count": null,
   "id": "c206dd83-9b5d-4c96-8da7-75ed8629ec7d",
   "metadata": {},
   "outputs": [],
   "source": []
  }
 ],
 "metadata": {
  "kernelspec": {
   "display_name": "Python [conda env:jh_llms]",
   "language": "python",
   "name": "conda-env-jh_llms-py"
  },
  "language_info": {
   "codemirror_mode": {
    "name": "ipython",
    "version": 3
   },
   "file_extension": ".py",
   "mimetype": "text/x-python",
   "name": "python",
   "nbconvert_exporter": "python",
   "pygments_lexer": "ipython3",
   "version": "3.12.2"
  }
 },
 "nbformat": 4,
 "nbformat_minor": 5
}
